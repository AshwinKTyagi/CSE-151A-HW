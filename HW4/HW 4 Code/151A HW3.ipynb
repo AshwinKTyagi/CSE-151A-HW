{
 "cells": [
  {
   "cell_type": "code",
   "execution_count": 4,
   "id": "e01bebba-a7ca-4aa9-8780-0a698c875296",
   "metadata": {},
   "outputs": [],
   "source": [
    "import numpy as np\n",
    "import sklearn.linear_model as lm\n",
    "import matplotlib.pyplot as plt "
   ]
  },
  {
   "cell_type": "code",
   "execution_count": 39,
   "id": "1858c888-b6f5-4063-8dab-418d39373cdf",
   "metadata": {},
   "outputs": [],
   "source": [
    "x = []\n",
    "y = []\n",
    "\n",
    "with open('mystery.dat', 'r') as file:\n",
    "    for line in file:\n",
    "        # Split each line by a comma and convert to a NumPy array\n",
    "        values = np.array(line.strip().split(','), dtype=float)\n",
    "        \n",
    "        if values.size == 101:\n",
    "            # Append the values to the respective arrays\n",
    "            x.append(values[:100:])\n",
    "            y.append(values[100::])"
   ]
  },
  {
   "cell_type": "code",
   "execution_count": 40,
   "id": "64f65f4c-175c-4914-bbae-5977debf0c75",
   "metadata": {},
   "outputs": [
    {
     "name": "stdout",
     "output_type": "stream",
     "text": [
      "[16 18 12  2 26 10  1 22  4  6]\n"
     ]
    }
   ],
   "source": [
    "lasso = lm.Lasso(alpha=0.2)\n",
    "lasso.fit(x, y)\n",
    "\n",
    "feature_importance = lasso.coef_\n",
    "\n",
    "feats = np.argsort(np.abs(feature_importance))[-10:]\n",
    "\n",
    "print(feats)"
   ]
  }
 ],
 "metadata": {
  "kernelspec": {
   "display_name": "Python 3 (ipykernel)",
   "language": "python",
   "name": "python3"
  },
  "language_info": {
   "codemirror_mode": {
    "name": "ipython",
    "version": 3
   },
   "file_extension": ".py",
   "mimetype": "text/x-python",
   "name": "python",
   "nbconvert_exporter": "python",
   "pygments_lexer": "ipython3",
   "version": "3.11.5"
  }
 },
 "nbformat": 4,
 "nbformat_minor": 5
}
