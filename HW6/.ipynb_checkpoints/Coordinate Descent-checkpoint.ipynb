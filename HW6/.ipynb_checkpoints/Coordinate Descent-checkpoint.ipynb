{
 "cells": [
  {
   "cell_type": "code",
   "execution_count": 90,
   "id": "121262b3-2c37-4bc0-89fd-a0baec887d6e",
   "metadata": {},
   "outputs": [],
   "source": [
    "import numpy as np\n",
    "from sklearn.linear_model import LogisticRegression\n",
    "from sklearn.model_selection import KFold, cross_val_score\n",
    "import matplotlib.pyplot as plt"
   ]
  },
  {
   "cell_type": "code",
   "execution_count": 2,
   "id": "e6a425c9-80cb-435e-abf6-4e310695876d",
   "metadata": {},
   "outputs": [],
   "source": [
    "file = open(\"heart.csv\")\n",
    "\n",
    "labels = []\n",
    "x = []\n",
    "y = []\n",
    "for line in file:\n",
    "    if(len(labels) == 0):\n",
    "        labels = line.split(',')\n",
    "        continue\n",
    "    line_arr = line.split(',')\n",
    "    x.append(line_arr[:13:])\n",
    "    y.append(line_arr[13::][0][0])\n",
    "\n",
    "rand_ind = np.array(range(0, 303))\n",
    "np.random.shuffle(rand_ind)\n",
    "\n",
    "ind_test = rand_ind[200::]\n",
    "ind_train = rand_ind[:200:]\n",
    "\n",
    "x = [list(map(float,i)) for i in x]\n",
    "y = list(map(float, y))\n"
   ]
  },
  {
   "cell_type": "code",
   "execution_count": 3,
   "id": "4ef458c7-ec48-420b-bd23-1ea40e3f845e",
   "metadata": {},
   "outputs": [],
   "source": [
    "x_test = []\n",
    "y_test = []\n",
    "x_train = []\n",
    "y_train = []\n",
    "\n",
    "for i in ind_test:\n",
    "    x_test.append(x[i])\n",
    "    y_test.append(y[i])\n",
    "    \n",
    "for i in ind_train:\n",
    "    x_train.append(x[i])\n",
    "    y_train.append(y[i])\n"
   ]
  },
  {
   "cell_type": "code",
   "execution_count": 4,
   "id": "18353ecb-296a-40f2-82c2-9f4a9e90fe4e",
   "metadata": {},
   "outputs": [],
   "source": [
    "model = LogisticRegression(max_iter = 1000)\n",
    "model.fit(x_train, y_train)\n",
    "\n",
    "y_pred = model.predict(x_test)"
   ]
  },
  {
   "cell_type": "code",
   "execution_count": 5,
   "id": "5e622274-b6b9-42aa-898c-2e1c4f2a33d0",
   "metadata": {},
   "outputs": [
    {
     "name": "stdout",
     "output_type": "stream",
     "text": [
      "0.1553398058252427\n"
     ]
    }
   ],
   "source": [
    "errors = 0\n",
    "for i in range(len(y_pred)):\n",
    "    if(y_pred[i] != y_test[i]): errors += 1\n",
    "\n",
    "test_error = errors/len(y_test)\n",
    "print(test_error)"
   ]
  },
  {
   "cell_type": "code",
   "execution_count": 6,
   "id": "c30881ab-96bc-4c1b-aba2-a532da50e619",
   "metadata": {},
   "outputs": [],
   "source": [
    "k_model = LogisticRegression(max_iter=1000)\n",
    "k_fold = KFold(n_splits = 5, shuffle = True, random_state = 10)\n",
    "cross_val_scores = cross_val_score(k_model, x_train, y_train, cv=k_fold)\n"
   ]
  },
  {
   "cell_type": "code",
   "execution_count": 7,
   "id": "6f983c20-572f-4d9f-92f5-98c793b4bec6",
   "metadata": {},
   "outputs": [
    {
     "name": "stdout",
     "output_type": "stream",
     "text": [
      "0.185\n"
     ]
    }
   ],
   "source": [
    "val_errors = np.mean(1 - cross_val_scores)\n",
    "print(val_errors)"
   ]
  },
  {
   "cell_type": "markdown",
   "id": "12c2949c-2782-4891-9c9c-01e2d84ee3cc",
   "metadata": {},
   "source": [
    "#### Stepwise "
   ]
  },
  {
   "cell_type": "code",
   "execution_count": 113,
   "id": "05b3914e-d9de-4c3d-b090-94ffa227ebd5",
   "metadata": {},
   "outputs": [],
   "source": [
    "S = []\n",
    "f = np.array(range(len(labels)-1))\n",
    "all_errors = []\n",
    "all_val_errors = []\n",
    "while len(f) > 0:\n",
    "    best_f = None\n",
    "    best_err = 1\n",
    "    best_val_err = 1\n",
    "    for feat in f:\n",
    "        model = LogisticRegression(max_iter=1000)\n",
    "        cols_train = [[i[j] for j in S+[feat]] for i in x_train]\n",
    "        cols_test = [[i[j] for j in S+[feat]] for i in x_test]\n",
    "        \n",
    "        model.fit(cols_train, y_train)\n",
    "\n",
    "        y_pred = model.predict(cols_test)\n",
    "\n",
    "        k_fold = KFold(n_splits = 5)\n",
    "        cross_val_scores = cross_val_score(model, cols_train, y_train, cv=k_fold)\n",
    "        val_err = np.mean(1 - cross_val_scores)\n",
    "\n",
    "        errors = 0\n",
    "        \n",
    "        for i in range(len(y_pred)):\n",
    "            if(y_pred[i] != y_test[i]): errors += 1\n",
    "\n",
    "        if errors/len(y_pred) < best_err:\n",
    "            best_err = errors/len(y_pred)\n",
    "            best_val_err = val_err\n",
    "            best_f = feat\n",
    "\n",
    "    S.append(best_f)\n",
    "    all_errors.append(best_err)\n",
    "    all_val_errors.append(best_val_err)\n",
    "    f = np.delete(f, np.where(f == best_f))\n"
   ]
  },
  {
   "cell_type": "code",
   "execution_count": 114,
   "id": "1bcda20d-0d28-4aa6-8815-6f4f715c0a70",
   "metadata": {},
   "outputs": [
    {
     "data": {
      "text/plain": [
       "<matplotlib.legend.Legend at 0x15c9d0fd0>"
      ]
     },
     "execution_count": 114,
     "metadata": {},
     "output_type": "execute_result"
    },
    {
     "data": {
      "image/png": "[encoded data removed]",
      "text/plain": [
       "<Figure size 640x480 with 1 Axes>"
      ]
     },
     "metadata": {},
     "output_type": "display_data"
    }
   ],
   "source": [
    "figure, axis = plt.subplots()\n",
    "x_axis = range(0,13)\n",
    "plt.plot(x_axis, all_errors, label='All Errors', color='blue')\n",
    "plt.plot(x_axis, all_val_errors, label='5-fold Errors', color='red')\n",
    "plt.legend()"
   ]
  },
  {
   "cell_type": "code",
   "execution_count": 115,
   "id": "fba81905-9c93-4b14-8dff-1f7821771807",
   "metadata": {},
   "outputs": [
    {
     "data": {
      "text/plain": [
       "['ca', 'exang']"
      ]
     },
     "execution_count": 115,
     "metadata": {},
     "output_type": "execute_result"
    }
   ],
   "source": [
    "[labels[j] for j in S[:2:]]"
   ]
  },
  {
   "cell_type": "code",
   "execution_count": 232,
   "id": "e766bc94-12d1-49fe-abfd-43c048cf4acb",
   "metadata": {},
   "outputs": [
    {
     "data": {
      "text/plain": [
       "<matplotlib.contour.QuadContourSet at 0x16b76d6d0>"
      ]
     },
     "execution_count": 232,
     "metadata": {},
     "output_type": "execute_result"
    },
    {
     "data": {
      "image/png": "[encoded data removed]",
      "text/plain": [
       "<Figure size 640x480 with 1 Axes>"
      ]
     },
     "metadata": {},
     "output_type": "display_data"
    }
   ],
   "source": [
    "model2 = LogisticRegression(max_iter=1000)\n",
    "\n",
    "cols_train = [[i[j] for j in S[:2:]] for i in x_train]\n",
    "cols_test = [[i[j] for j in S[:2:]] for i in x_test]\n",
    "        \n",
    "model2.fit(cols_train, y_train)\n",
    "\n",
    "xx, yy = np.meshgrid(np.arange(0, np.max(cols_train)+1, .01), np.arange(0, np.max(cols_train)+1, .01))\n",
    "\n",
    "pY = model2.predict(np.c_[xx.ravel(), yy.ravel()])\n",
    "pY = pY.reshape(xx.shape)\n",
    "\n",
    "plt.contourf(xx, yy, pY, cmap=plt.cm.Paired, alpha=0.8)\n"
   ]
  }
 ],
 "metadata": {
  "kernelspec": {
   "display_name": "Python 3 (ipykernel)",
   "language": "python",
   "name": "python3"
  },
  "language_info": {
   "codemirror_mode": {
    "name": "ipython",
    "version": 3
   },
   "file_extension": ".py",
   "mimetype": "text/x-python",
   "name": "python",
   "nbconvert_exporter": "python",
   "pygments_lexer": "ipython3",
   "version": "3.11.5"
  }
 },
 "nbformat": 4,
 "nbformat_minor": 5
}
