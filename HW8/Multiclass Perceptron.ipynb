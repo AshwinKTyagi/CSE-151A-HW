{
 "cells": [
  {
   "cell_type": "code",
   "execution_count": 109,
   "id": "fbf2bb0a-07fc-40ac-8e2b-202b7f4c8a99",
   "metadata": {},
   "outputs": [
    {
     "name": "stdout",
     "output_type": "stream",
     "text": [
      "47\n"
     ]
    }
   ],
   "source": [
    "import numpy as np\n",
    "import matplotlib.pyplot as plt\n",
    "\n",
    "file = open(\"data0.txt\")\n",
    "\n",
    "labels = []\n",
    "x = []\n",
    "y = []\n",
    "for line in file:\n",
    "    if(len(labels) == 0):\n",
    "        labels = line.split(',')\n",
    "        continue\n",
    "    line_arr = line.split(' ')\n",
    "    x.append(line_arr[:2:])\n",
    "    y.append(line_arr[2::][0][0])\n",
    "\n",
    "rand_ind = np.array(range(0, 303))\n",
    "np.random.shuffle(rand_ind)\n",
    "\n",
    "ind_test = rand_ind[200::]\n",
    "ind_train = rand_ind[:200:]\n",
    "\n",
    "x = [list(map(float,i)) for i in x]\n",
    "y = list(map(float, y))\n",
    "x = np.array(x)\n",
    "y = np.array(y)\n",
    "print(len(y))"
   ]
  },
  {
   "cell_type": "code",
   "execution_count": 110,
   "id": "cbd98461-8e0e-49c2-82f5-96cd9b9d2c62",
   "metadata": {},
   "outputs": [],
   "source": [
    "def multiclass_perceptron_label(w, b, x):\n",
    "    label = [0]*len(w)\n",
    "    for i in range(len(w)):\n",
    "        label[i] = np.dot(w[i], x) + b[i]\n",
    "    return np.argmax(label)\n",
    "\n",
    "            \n",
    "def multiclass_perceptron_classifier(x,y):\n",
    "\n",
    "    w = [[0,0]]*4\n",
    "    b = [0]*4\n",
    "    rand_inds = np.arange(0, len(x))\n",
    "    np.random.shuffle(rand_inds)\n",
    "    num_errors = -1\n",
    "    k = 0\n",
    "    \n",
    "    while num_errors != 0:\n",
    "        num_errors = 0\n",
    "        \n",
    "        np.random.shuffle(rand_inds)\n",
    "        for i in rand_inds:\n",
    "            l = multiclass_perceptron_label(w, b, x[i])\n",
    "            if l != y[i]:\n",
    "                cor= int(y[i])\n",
    "                \n",
    "                w[cor] = [a + b for a, b in zip(w[cor], x[i])]\n",
    "                b[cor] = b[cor] + 1\n",
    "\n",
    "                w[l] = [a - b for a, b in zip(w[l], x[i])]\n",
    "                b[l] = b[l] - 1\n",
    "                num_errors += 1\n",
    "                k += 1\n",
    "\n",
    "    return w, b, k"
   ]
  },
  {
   "cell_type": "code",
   "execution_count": 132,
   "id": "70b3da80-c8a0-4e62-85cc-b7ceb2479c9a",
   "metadata": {},
   "outputs": [
    {
     "name": "stdout",
     "output_type": "stream",
     "text": [
      "[[3.0, -4.0], [-41.0, 34.0], [29.0, -35.0], [9.0, 5.0]] [57, -15, -10, -32]\n",
      "47 47 47\n"
     ]
    },
    {
     "ename": "ValueError",
     "evalue": "'po^' is not a valid format string (two marker symbols)",
     "output_type": "error",
     "traceback": [
      "\u001b[0;31m---------------------------------------------------------------------------\u001b[0m",
      "\u001b[0;31mValueError\u001b[0m                                Traceback (most recent call last)",
      "Cell \u001b[0;32mIn[132], line 29\u001b[0m\n\u001b[1;32m     25\u001b[0m \u001b[38;5;66;03m# Scatter plot of data points\u001b[39;00m\n\u001b[1;32m     26\u001b[0m \u001b[38;5;66;03m# Assuming you have data X and labels y\u001b[39;00m\n\u001b[1;32m     27\u001b[0m \u001b[38;5;66;03m# Replace the following with your actual data\u001b[39;00m\n\u001b[1;32m     28\u001b[0m plt\u001b[38;5;241m.\u001b[39mplot(x[(y\u001b[38;5;241m==\u001b[39m\u001b[38;5;241m0\u001b[39m),\u001b[38;5;241m0\u001b[39m], x[(y\u001b[38;5;241m==\u001b[39m\u001b[38;5;241m0\u001b[39m),\u001b[38;5;241m1\u001b[39m], \u001b[38;5;124m'\u001b[39m\u001b[38;5;124mro\u001b[39m\u001b[38;5;124m'\u001b[39m)\n\u001b[0;32m---> 29\u001b[0m \u001b[43mplt\u001b[49m\u001b[38;5;241;43m.\u001b[39;49m\u001b[43mplot\u001b[49m\u001b[43m(\u001b[49m\u001b[43mx\u001b[49m\u001b[43m[\u001b[49m\u001b[43m(\u001b[49m\u001b[43my\u001b[49m\u001b[38;5;241;43m==\u001b[39;49m\u001b[38;5;241;43m1\u001b[39;49m\u001b[43m)\u001b[49m\u001b[43m,\u001b[49m\u001b[38;5;241;43m0\u001b[39;49m\u001b[43m]\u001b[49m\u001b[43m,\u001b[49m\u001b[43m \u001b[49m\u001b[43mx\u001b[49m\u001b[43m[\u001b[49m\u001b[43m(\u001b[49m\u001b[43my\u001b[49m\u001b[38;5;241;43m==\u001b[39;49m\u001b[38;5;241;43m1\u001b[39;49m\u001b[43m)\u001b[49m\u001b[43m,\u001b[49m\u001b[38;5;241;43m1\u001b[39;49m\u001b[43m]\u001b[49m\u001b[43m,\u001b[49m\u001b[43m \u001b[49m\u001b[38;5;124;43m'\u001b[39;49m\u001b[38;5;124;43mpo^\u001b[39;49m\u001b[38;5;124;43m'\u001b[39;49m\u001b[43m)\u001b[49m\n\u001b[1;32m     30\u001b[0m plt\u001b[38;5;241m.\u001b[39mplot(x[(y\u001b[38;5;241m==\u001b[39m\u001b[38;5;241m1\u001b[39m),\u001b[38;5;241m0\u001b[39m], x[(y\u001b[38;5;241m==\u001b[39m\u001b[38;5;241m1\u001b[39m),\u001b[38;5;241m1\u001b[39m], \u001b[38;5;124m'\u001b[39m\u001b[38;5;124moo\u001b[39m\u001b[38;5;124m'\u001b[39m)\n\u001b[1;32m     31\u001b[0m plt\u001b[38;5;241m.\u001b[39mplot(x[(y\u001b[38;5;241m==\u001b[39m\u001b[38;5;241m1\u001b[39m),\u001b[38;5;241m0\u001b[39m], x[(y\u001b[38;5;241m==\u001b[39m\u001b[38;5;241m1\u001b[39m),\u001b[38;5;241m1\u001b[39m], \u001b[38;5;124m'\u001b[39m\u001b[38;5;124mbo\u001b[39m\u001b[38;5;124m'\u001b[39m)\n",
      "File \u001b[0;32m/opt/homebrew/lib/python3.11/site-packages/matplotlib/pyplot.py:3578\u001b[0m, in \u001b[0;36mplot\u001b[0;34m(scalex, scaley, data, *args, **kwargs)\u001b[0m\n\u001b[1;32m   3570\u001b[0m \u001b[38;5;129m@_copy_docstring_and_deprecators\u001b[39m(Axes\u001b[38;5;241m.\u001b[39mplot)\n\u001b[1;32m   3571\u001b[0m \u001b[38;5;28;01mdef\u001b[39;00m \u001b[38;5;21mplot\u001b[39m(\n\u001b[1;32m   3572\u001b[0m     \u001b[38;5;241m*\u001b[39margs: \u001b[38;5;28mfloat\u001b[39m \u001b[38;5;241m|\u001b[39m ArrayLike \u001b[38;5;241m|\u001b[39m \u001b[38;5;28mstr\u001b[39m,\n\u001b[0;32m   (...)\u001b[0m\n\u001b[1;32m   3576\u001b[0m     \u001b[38;5;241m*\u001b[39m\u001b[38;5;241m*\u001b[39mkwargs,\n\u001b[1;32m   3577\u001b[0m ) \u001b[38;5;241m-\u001b[39m\u001b[38;5;241m>\u001b[39m \u001b[38;5;28mlist\u001b[39m[Line2D]:\n\u001b[0;32m-> 3578\u001b[0m     \u001b[38;5;28;01mreturn\u001b[39;00m \u001b[43mgca\u001b[49m\u001b[43m(\u001b[49m\u001b[43m)\u001b[49m\u001b[38;5;241;43m.\u001b[39;49m\u001b[43mplot\u001b[49m\u001b[43m(\u001b[49m\n\u001b[1;32m   3579\u001b[0m \u001b[43m        \u001b[49m\u001b[38;5;241;43m*\u001b[39;49m\u001b[43margs\u001b[49m\u001b[43m,\u001b[49m\n\u001b[1;32m   3580\u001b[0m \u001b[43m        \u001b[49m\u001b[43mscalex\u001b[49m\u001b[38;5;241;43m=\u001b[39;49m\u001b[43mscalex\u001b[49m\u001b[43m,\u001b[49m\n\u001b[1;32m   3581\u001b[0m \u001b[43m        \u001b[49m\u001b[43mscaley\u001b[49m\u001b[38;5;241;43m=\u001b[39;49m\u001b[43mscaley\u001b[49m\u001b[43m,\u001b[49m\n\u001b[1;32m   3582\u001b[0m \u001b[43m        \u001b[49m\u001b[38;5;241;43m*\u001b[39;49m\u001b[38;5;241;43m*\u001b[39;49m\u001b[43m(\u001b[49m\u001b[43m{\u001b[49m\u001b[38;5;124;43m\"\u001b[39;49m\u001b[38;5;124;43mdata\u001b[39;49m\u001b[38;5;124;43m\"\u001b[39;49m\u001b[43m:\u001b[49m\u001b[43m \u001b[49m\u001b[43mdata\u001b[49m\u001b[43m}\u001b[49m\u001b[43m \u001b[49m\u001b[38;5;28;43;01mif\u001b[39;49;00m\u001b[43m \u001b[49m\u001b[43mdata\u001b[49m\u001b[43m \u001b[49m\u001b[38;5;129;43;01mis\u001b[39;49;00m\u001b[43m \u001b[49m\u001b[38;5;129;43;01mnot\u001b[39;49;00m\u001b[43m \u001b[49m\u001b[38;5;28;43;01mNone\u001b[39;49;00m\u001b[43m \u001b[49m\u001b[38;5;28;43;01melse\u001b[39;49;00m\u001b[43m \u001b[49m\u001b[43m{\u001b[49m\u001b[43m}\u001b[49m\u001b[43m)\u001b[49m\u001b[43m,\u001b[49m\n\u001b[1;32m   3583\u001b[0m \u001b[43m        \u001b[49m\u001b[38;5;241;43m*\u001b[39;49m\u001b[38;5;241;43m*\u001b[39;49m\u001b[43mkwargs\u001b[49m\u001b[43m,\u001b[49m\n\u001b[1;32m   3584\u001b[0m \u001b[43m    \u001b[49m\u001b[43m)\u001b[49m\n",
      "File \u001b[0;32m/opt/homebrew/lib/python3.11/site-packages/matplotlib/axes/_axes.py:1721\u001b[0m, in \u001b[0;36mAxes.plot\u001b[0;34m(self, scalex, scaley, data, *args, **kwargs)\u001b[0m\n\u001b[1;32m   1478\u001b[0m \u001b[38;5;250m\u001b[39m\u001b[38;5;124;03m\"\"\"\u001b[39;00m\n\u001b[1;32m   1479\u001b[0m \u001b[38;5;124;03mPlot y versus x as lines and/or markers.\u001b[39;00m\n\u001b[1;32m   1480\u001b[0m \n\u001b[0;32m   (...)\u001b[0m\n\u001b[1;32m   1718\u001b[0m \u001b[38;5;124;03m(``'green'``) or hex strings (``'#008000'``).\u001b[39;00m\n\u001b[1;32m   1719\u001b[0m \u001b[38;5;124;03m\"\"\"\u001b[39;00m\n\u001b[1;32m   1720\u001b[0m kwargs \u001b[38;5;241m=\u001b[39m cbook\u001b[38;5;241m.\u001b[39mnormalize_kwargs(kwargs, mlines\u001b[38;5;241m.\u001b[39mLine2D)\n\u001b[0;32m-> 1721\u001b[0m lines \u001b[38;5;241m=\u001b[39m [\u001b[38;5;241m*\u001b[39m\u001b[38;5;28mself\u001b[39m\u001b[38;5;241m.\u001b[39m_get_lines(\u001b[38;5;28mself\u001b[39m, \u001b[38;5;241m*\u001b[39margs, data\u001b[38;5;241m=\u001b[39mdata, \u001b[38;5;241m*\u001b[39m\u001b[38;5;241m*\u001b[39mkwargs)]\n\u001b[1;32m   1722\u001b[0m \u001b[38;5;28;01mfor\u001b[39;00m line \u001b[38;5;129;01min\u001b[39;00m lines:\n\u001b[1;32m   1723\u001b[0m     \u001b[38;5;28mself\u001b[39m\u001b[38;5;241m.\u001b[39madd_line(line)\n",
      "File \u001b[0;32m/opt/homebrew/lib/python3.11/site-packages/matplotlib/axes/_base.py:303\u001b[0m, in \u001b[0;36m_process_plot_var_args.__call__\u001b[0;34m(self, axes, data, *args, **kwargs)\u001b[0m\n\u001b[1;32m    301\u001b[0m     this \u001b[38;5;241m+\u001b[39m\u001b[38;5;241m=\u001b[39m args[\u001b[38;5;241m0\u001b[39m],\n\u001b[1;32m    302\u001b[0m     args \u001b[38;5;241m=\u001b[39m args[\u001b[38;5;241m1\u001b[39m:]\n\u001b[0;32m--> 303\u001b[0m \u001b[38;5;28;01myield from\u001b[39;00m \u001b[38;5;28;43mself\u001b[39;49m\u001b[38;5;241;43m.\u001b[39;49m\u001b[43m_plot_args\u001b[49m\u001b[43m(\u001b[49m\n\u001b[1;32m    304\u001b[0m \u001b[43m    \u001b[49m\u001b[43maxes\u001b[49m\u001b[43m,\u001b[49m\u001b[43m \u001b[49m\u001b[43mthis\u001b[49m\u001b[43m,\u001b[49m\u001b[43m \u001b[49m\u001b[43mkwargs\u001b[49m\u001b[43m,\u001b[49m\u001b[43m \u001b[49m\u001b[43mambiguous_fmt_datakey\u001b[49m\u001b[38;5;241;43m=\u001b[39;49m\u001b[43mambiguous_fmt_datakey\u001b[49m\u001b[43m)\u001b[49m\n",
      "File \u001b[0;32m/opt/homebrew/lib/python3.11/site-packages/matplotlib/axes/_base.py:449\u001b[0m, in \u001b[0;36m_process_plot_var_args._plot_args\u001b[0;34m(self, axes, tup, kwargs, return_kwargs, ambiguous_fmt_datakey)\u001b[0m\n\u001b[1;32m    446\u001b[0m \u001b[38;5;28;01mif\u001b[39;00m \u001b[38;5;28mlen\u001b[39m(tup) \u001b[38;5;241m>\u001b[39m \u001b[38;5;241m1\u001b[39m \u001b[38;5;129;01mand\u001b[39;00m \u001b[38;5;28misinstance\u001b[39m(tup[\u001b[38;5;241m-\u001b[39m\u001b[38;5;241m1\u001b[39m], \u001b[38;5;28mstr\u001b[39m):\n\u001b[1;32m    447\u001b[0m     \u001b[38;5;66;03m# xy is tup with fmt stripped (could still be (y,) only)\u001b[39;00m\n\u001b[1;32m    448\u001b[0m     \u001b[38;5;241m*\u001b[39mxy, fmt \u001b[38;5;241m=\u001b[39m tup\n\u001b[0;32m--> 449\u001b[0m     linestyle, marker, color \u001b[38;5;241m=\u001b[39m \u001b[43m_process_plot_format\u001b[49m\u001b[43m(\u001b[49m\n\u001b[1;32m    450\u001b[0m \u001b[43m        \u001b[49m\u001b[43mfmt\u001b[49m\u001b[43m,\u001b[49m\u001b[43m \u001b[49m\u001b[43mambiguous_fmt_datakey\u001b[49m\u001b[38;5;241;43m=\u001b[39;49m\u001b[43mambiguous_fmt_datakey\u001b[49m\u001b[43m)\u001b[49m\n\u001b[1;32m    451\u001b[0m \u001b[38;5;28;01melif\u001b[39;00m \u001b[38;5;28mlen\u001b[39m(tup) \u001b[38;5;241m==\u001b[39m \u001b[38;5;241m3\u001b[39m:\n\u001b[1;32m    452\u001b[0m     \u001b[38;5;28;01mraise\u001b[39;00m \u001b[38;5;167;01mValueError\u001b[39;00m(\u001b[38;5;124m'\u001b[39m\u001b[38;5;124mthird arg must be a format string\u001b[39m\u001b[38;5;124m'\u001b[39m)\n",
      "File \u001b[0;32m/opt/homebrew/lib/python3.11/site-packages/matplotlib/axes/_base.py:184\u001b[0m, in \u001b[0;36m_process_plot_format\u001b[0;34m(fmt, ambiguous_fmt_datakey)\u001b[0m\n\u001b[1;32m    182\u001b[0m \u001b[38;5;28;01melif\u001b[39;00m c \u001b[38;5;129;01min\u001b[39;00m mlines\u001b[38;5;241m.\u001b[39mlineMarkers:\n\u001b[1;32m    183\u001b[0m     \u001b[38;5;28;01mif\u001b[39;00m marker \u001b[38;5;129;01mis\u001b[39;00m \u001b[38;5;129;01mnot\u001b[39;00m \u001b[38;5;28;01mNone\u001b[39;00m:\n\u001b[0;32m--> 184\u001b[0m         \u001b[38;5;28;01mraise\u001b[39;00m \u001b[38;5;167;01mValueError\u001b[39;00m(errfmt\u001b[38;5;241m.\u001b[39mformat(fmt, \u001b[38;5;124m\"\u001b[39m\u001b[38;5;124mtwo marker symbols\u001b[39m\u001b[38;5;124m\"\u001b[39m))\n\u001b[1;32m    185\u001b[0m     marker \u001b[38;5;241m=\u001b[39m c\n\u001b[1;32m    186\u001b[0m     i \u001b[38;5;241m+\u001b[39m\u001b[38;5;241m=\u001b[39m \u001b[38;5;241m1\u001b[39m\n",
      "\u001b[0;31mValueError\u001b[0m: 'po^' is not a valid format string (two marker symbols)"
     ]
    },
    {
     "data": {
      "image/png": "[encoded data removed]",
      "text/plain": [
       "<Figure size 640x480 with 1 Axes>"
      ]
     },
     "metadata": {},
     "output_type": "display_data"
    }
   ],
   "source": [
    "W,b,k = multiclass_perceptron_classifier(x,y)\n",
    "print(w, b)\n",
    "\n",
    "# Function to predict class labels\n",
    "def predict(X):\n",
    "    x_arr = np.array(X)\n",
    "    w_arr = np.array(w)\n",
    "    scores = np.dot(X, w_arr.T) + b\n",
    "    return np.argmax(scores, axis=1)\n",
    "\n",
    "# Create a meshgrid for plotting decision regions\n",
    "h = 0.01\n",
    "x_min, x_max = 0, 11\n",
    "y_min, y_max = 0, 11\n",
    "xx, yy = np.meshgrid(np.arange(x_min, x_max, h), np.arange(y_min, y_max, h))\n",
    "meshgrid_points = np.c_[xx.ravel(), yy.ravel()]\n",
    "\n",
    "# Predict labels for meshgrid points\n",
    "Z = predict(meshgrid_points)\n",
    "Z = Z.reshape(xx.shape)\n",
    "\n",
    "# Plot the decision boundaries\n",
    "plt.contourf(xx, yy, Z, cmap=plt.cm.Paired, alpha=0.8)\n",
    "print(len(x[:,0]),len(x[:,1]), len(y))\n",
    "# Scatter plot of data points\n",
    "# Assuming you have data X and labels y\n",
    "# Replace the following with your actual data\n",
    "plt.plot(x[(y==0),0], x[(y==0),1], 'ro')\n",
    "plt.plot(x[(y==1),0], x[(y==1),1], 'po^')\n",
    "plt.plot(x[(y==1),0], x[(y==1),1], 'oo')\n",
    "plt.plot(x[(y==1),0], x[(y==1),1], 'bo')\n",
    "print(np.max(x))\n",
    "\n",
    "plt.title(\"Multiclass Perceptron Decision Boundaries\")\n",
    "plt.xlabel(\"Feature 1\")\n",
    "plt.ylabel(\"Feature 2\")\n",
    "plt.show()"
   ]
  }
 ],
 "metadata": {
  "kernelspec": {
   "display_name": "python3.11.6",
   "language": "python",
   "name": "python3.11.6"
  },
  "language_info": {
   "codemirror_mode": {
    "name": "ipython",
    "version": 3
   },
   "file_extension": ".py",
   "mimetype": "text/x-python",
   "name": "python",
   "nbconvert_exporter": "python",
   "pygments_lexer": "ipython3",
   "version": "3.11.6"
  }
 },
 "nbformat": 4,
 "nbformat_minor": 5
}
