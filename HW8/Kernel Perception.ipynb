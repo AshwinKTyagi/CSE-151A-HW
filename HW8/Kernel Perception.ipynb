{
 "cells": [
  {
   "cell_type": "code",
   "execution_count": 22,
   "id": "b86daeef-e559-4055-a609-36ec99717fca",
   "metadata": {},
   "outputs": [
    {
     "name": "stdout",
     "output_type": "stream",
     "text": [
      "76\n"
     ]
    }
   ],
   "source": [
    "import numpy as np\n",
    "import matplotlib.pyplot as plt\n",
    "\n",
    "file = open(\"data1.txt\")\n",
    "\n",
    "labels = []\n",
    "x = []\n",
    "y = []\n",
    "for line in file:\n",
    "    line = line.split('\\n')[0]\n",
    "    line_arr = line.split(' ')\n",
    "    x.append(line_arr[:2:])\n",
    "    y.append(line_arr[2::][0])\n",
    "\n",
    "\n",
    "rand_ind = np.array(range(0, 303))\n",
    "np.random.shuffle(rand_ind)\n",
    "\n",
    "ind_test = rand_ind[200::]\n",
    "ind_train = rand_ind[:200:]\n",
    "\n",
    "x = [list(map(float,i)) for i in x]\n",
    "y = list(map(float, y))\n",
    "x = np.array(x)\n",
    "y = np.array(y)\n",
    "print(len(x))`"
   ]
  },
  {
   "cell_type": "code",
   "execution_count": null,
   "id": "bbf50115-90b4-4a4a-b5ce-25bd05dbc32b",
   "metadata": {},
   "outputs": [],
   "source": []
  }
 ],
 "metadata": {
  "kernelspec": {
   "display_name": "python3.11.6",
   "language": "python",
   "name": "python3.11.6"
  },
  "language_info": {
   "codemirror_mode": {
    "name": "ipython",
    "version": 3
   },
   "file_extension": ".py",
   "mimetype": "text/x-python",
   "name": "python",
   "nbconvert_exporter": "python",
   "pygments_lexer": "ipython3",
   "version": "3.11.6"
  }
 },
 "nbformat": 4,
 "nbformat_minor": 5
}
